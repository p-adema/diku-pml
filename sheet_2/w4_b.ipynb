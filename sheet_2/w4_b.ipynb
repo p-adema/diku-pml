{
 "cells": [
  {
   "cell_type": "code",
   "execution_count": 29,
   "id": "initial_id",
   "metadata": {
    "ExecuteTime": {
     "end_time": "2024-12-12T12:40:21.109902Z",
     "start_time": "2024-12-12T12:40:20.979014Z"
    },
    "collapsed": true
   },
   "outputs": [],
   "source": [
    "from functools import partial\n",
    "from typing import Callable\n",
    "\n",
    "import arviz\n",
    "import jax\n",
    "import jax.numpy as jnp\n",
    "import matplotlib.pyplot as plt\n",
    "import numpyro\n",
    "import pandas as pd\n",
    "import seaborn as sns\n",
    "import sklearn\n",
    "from jax import Array\n",
    "from numpyro import distributions as dist\n",
    "from sklearn.datasets import load_iris\n",
    "from sklearn.model_selection import train_test_split\n",
    "from tqdm.notebook import tqdm"
   ]
  },
  {
   "cell_type": "code",
   "execution_count": 30,
   "id": "a48fc518b4cfbf34",
   "metadata": {
    "ExecuteTime": {
     "end_time": "2024-12-12T12:41:20.356207Z",
     "start_time": "2024-12-12T12:41:20.350222Z"
    }
   },
   "outputs": [],
   "source": [
    "iris = load_iris()\n",
    "x_train, x_test, y_train, y_test = train_test_split(\n",
    "    iris.data.astype(float), iris.target.astype(int), test_size=0.33, random_state=42\n",
    ")"
   ]
  },
  {
   "cell_type": "code",
   "execution_count": 31,
   "id": "1d27f09893f3ad63",
   "metadata": {
    "ExecuteTime": {
     "end_time": "2024-12-12T12:41:22.686743Z",
     "start_time": "2024-12-12T12:41:22.680650Z"
    }
   },
   "outputs": [],
   "source": [
    "class Model:\n",
    "    def __init__(self, x_dim=4, y_dim=3, h_dim=5):\n",
    "        self.x_dim = x_dim\n",
    "        self.y_dim = y_dim\n",
    "        self.h_dim = h_dim\n",
    "\n",
    "    def __call__(self, x, y=None):\n",
    "        \"\"\"\n",
    "        We need None for predictive\n",
    "        \"\"\"\n",
    "        x_dim = self.x_dim\n",
    "        y_dim = self.y_dim\n",
    "        h_dim = self.h_dim\n",
    "        # Number of observations\n",
    "        n = x.shape[0]\n",
    "        # standard deviation of Normals\n",
    "        sd = 1  # EXERCISE: 100->1\n",
    "        # Layer 1\n",
    "        w1 = numpyro.sample(\"w1\", dist.Normal(0, sd).expand((x_dim, h_dim)).to_event(2))\n",
    "        b1 = numpyro.sample(\"b1\", dist.Normal(0, sd).expand((h_dim,)).to_event(1))\n",
    "        # Layer 2 # EXERCISE: added layer\n",
    "        w2 = numpyro.sample(\"w2\", dist.Normal(0, sd).expand((h_dim, h_dim)).to_event(2))\n",
    "        b2 = numpyro.sample(\"b2\", dist.Normal(0, sd).expand((h_dim,)).to_event(1))\n",
    "        # Layer 3\n",
    "        w3 = numpyro.sample(\"w3\", dist.Normal(0, sd).expand((h_dim, y_dim)).to_event(2))\n",
    "        b3 = numpyro.sample(\"b3\", dist.Normal(0, sd).expand((y_dim,)).to_event(1))\n",
    "        # NN\n",
    "        h1 = jnp.tanh((x @ w1) + b1)\n",
    "        h2 = jnp.tanh((h1 @ w2) + b2)  # EXERCISE: added layer\n",
    "        logits = h2 @ w3 + b3\n",
    "        # Save deterministc variable (logits) in trace\n",
    "        numpyro.deterministic(\"logits\", logits)\n",
    "        # Categorical likelihood\n",
    "        with numpyro.plate(\"labels\", n):\n",
    "            obs = numpyro.sample(\"obs\", dist.Categorical(logits=logits), obs=y)\n",
    "        return obs"
   ]
  },
  {
   "cell_type": "code",
   "execution_count": 32,
   "id": "bb13a65051679631",
   "metadata": {
    "ExecuteTime": {
     "end_time": "2024-12-12T12:42:04.314432Z",
     "start_time": "2024-12-12T12:41:33.887539Z"
    }
   },
   "outputs": [
    {
     "name": "stderr",
     "output_type": "stream",
     "text": [
      "/var/folders/pn/jqbv09dn34l3q3q4n4xwgf7h0000gn/T/ipykernel_76354/2397990501.py:2: UserWarning: There are not enough devices to run parallel chains: expected 4 but got 1. Chains will be drawn sequentially. If you are running MCMC in CPU, consider using `numpyro.set_host_device_count(4)` at the beginning of your program. You can double-check how many devices are available in your system using `jax.local_device_count()`.\n",
      "  mcmc = numpyro.infer.MCMC(kernel, num_samples=1000, num_warmup=200, num_chains=4)\n",
      "sample: 100%|██████████| 1200/1200 [00:08<00:00, 146.22it/s, 511 steps of size 1.22e-02. acc. prob=0.83] \n",
      "sample: 100%|██████████| 1200/1200 [00:07<00:00, 164.89it/s, 511 steps of size 9.71e-03. acc. prob=0.95]\n",
      "sample: 100%|██████████| 1200/1200 [00:06<00:00, 175.61it/s, 511 steps of size 1.10e-02. acc. prob=0.92]\n",
      "sample: 100%|██████████| 1200/1200 [00:07<00:00, 160.10it/s, 511 steps of size 8.91e-03. acc. prob=0.97]\n"
     ]
    }
   ],
   "source": [
    "kernel = numpyro.infer.NUTS(Model())\n",
    "mcmc = numpyro.infer.MCMC(kernel, num_samples=1000, num_warmup=200, num_chains=4)\n",
    "mcmc.run(jax.random.key(0), x=x_train, y=y_train)"
   ]
  },
  {
   "cell_type": "code",
   "execution_count": 33,
   "id": "a7c6bc8f8a0b832d",
   "metadata": {
    "ExecuteTime": {
     "end_time": "2024-12-12T12:42:05.315210Z",
     "start_time": "2024-12-12T12:42:04.319722Z"
    }
   },
   "outputs": [
    {
     "data": {
      "text/html": [
       "<div>\n",
       "<style scoped>\n",
       "    .dataframe tbody tr th:only-of-type {\n",
       "        vertical-align: middle;\n",
       "    }\n",
       "\n",
       "    .dataframe tbody tr th {\n",
       "        vertical-align: top;\n",
       "    }\n",
       "\n",
       "    .dataframe thead th {\n",
       "        text-align: right;\n",
       "    }\n",
       "</style>\n",
       "<table border=\"1\" class=\"dataframe\">\n",
       "  <thead>\n",
       "    <tr style=\"text-align: right;\">\n",
       "      <th></th>\n",
       "      <th>mean</th>\n",
       "      <th>sd</th>\n",
       "      <th>hdi_3%</th>\n",
       "      <th>hdi_97%</th>\n",
       "      <th>mcse_mean</th>\n",
       "      <th>mcse_sd</th>\n",
       "      <th>ess_bulk</th>\n",
       "      <th>ess_tail</th>\n",
       "      <th>r_hat</th>\n",
       "    </tr>\n",
       "  </thead>\n",
       "  <tbody>\n",
       "    <tr>\n",
       "      <th>count</th>\n",
       "      <td>373.000000</td>\n",
       "      <td>373.000000</td>\n",
       "      <td>373.000000</td>\n",
       "      <td>373.000000</td>\n",
       "      <td>373.000000</td>\n",
       "      <td>373.000000</td>\n",
       "      <td>373.000000</td>\n",
       "      <td>373.000000</td>\n",
       "      <td>373.000000</td>\n",
       "    </tr>\n",
       "    <tr>\n",
       "      <th>mean</th>\n",
       "      <td>-0.002340</td>\n",
       "      <td>1.448810</td>\n",
       "      <td>-2.692094</td>\n",
       "      <td>2.732397</td>\n",
       "      <td>0.024965</td>\n",
       "      <td>0.018461</td>\n",
       "      <td>3898.935657</td>\n",
       "      <td>3470.597855</td>\n",
       "      <td>1.000509</td>\n",
       "    </tr>\n",
       "    <tr>\n",
       "      <th>std</th>\n",
       "      <td>2.141836</td>\n",
       "      <td>0.223968</td>\n",
       "      <td>2.364947</td>\n",
       "      <td>2.044342</td>\n",
       "      <td>0.007270</td>\n",
       "      <td>0.004809</td>\n",
       "      <td>1238.349594</td>\n",
       "      <td>581.353629</td>\n",
       "      <td>0.002434</td>\n",
       "    </tr>\n",
       "    <tr>\n",
       "      <th>min</th>\n",
       "      <td>-2.992000</td>\n",
       "      <td>0.818000</td>\n",
       "      <td>-6.353000</td>\n",
       "      <td>-0.134000</td>\n",
       "      <td>0.011000</td>\n",
       "      <td>0.013000</td>\n",
       "      <td>300.000000</td>\n",
       "      <td>845.000000</td>\n",
       "      <td>1.000000</td>\n",
       "    </tr>\n",
       "    <tr>\n",
       "      <th>25%</th>\n",
       "      <td>-1.657000</td>\n",
       "      <td>1.351000</td>\n",
       "      <td>-4.541000</td>\n",
       "      <td>1.236000</td>\n",
       "      <td>0.021000</td>\n",
       "      <td>0.016000</td>\n",
       "      <td>3882.000000</td>\n",
       "      <td>3490.000000</td>\n",
       "      <td>1.000000</td>\n",
       "    </tr>\n",
       "    <tr>\n",
       "      <th>50%</th>\n",
       "      <td>-0.089000</td>\n",
       "      <td>1.477000</td>\n",
       "      <td>-2.584000</td>\n",
       "      <td>2.128000</td>\n",
       "      <td>0.023000</td>\n",
       "      <td>0.018000</td>\n",
       "      <td>4389.000000</td>\n",
       "      <td>3709.000000</td>\n",
       "      <td>1.000000</td>\n",
       "    </tr>\n",
       "    <tr>\n",
       "      <th>75%</th>\n",
       "      <td>2.180000</td>\n",
       "      <td>1.572000</td>\n",
       "      <td>-0.276000</td>\n",
       "      <td>4.649000</td>\n",
       "      <td>0.027000</td>\n",
       "      <td>0.019000</td>\n",
       "      <td>4559.000000</td>\n",
       "      <td>3821.000000</td>\n",
       "      <td>1.000000</td>\n",
       "    </tr>\n",
       "    <tr>\n",
       "      <th>max</th>\n",
       "      <td>3.722000</td>\n",
       "      <td>1.885000</td>\n",
       "      <td>1.063000</td>\n",
       "      <td>6.703000</td>\n",
       "      <td>0.065000</td>\n",
       "      <td>0.046000</td>\n",
       "      <td>6039.000000</td>\n",
       "      <td>3974.000000</td>\n",
       "      <td>1.020000</td>\n",
       "    </tr>\n",
       "  </tbody>\n",
       "</table>\n",
       "</div>"
      ],
      "text/plain": [
       "             mean          sd      hdi_3%     hdi_97%   mcse_mean     mcse_sd  \\\n",
       "count  373.000000  373.000000  373.000000  373.000000  373.000000  373.000000   \n",
       "mean    -0.002340    1.448810   -2.692094    2.732397    0.024965    0.018461   \n",
       "std      2.141836    0.223968    2.364947    2.044342    0.007270    0.004809   \n",
       "min     -2.992000    0.818000   -6.353000   -0.134000    0.011000    0.013000   \n",
       "25%     -1.657000    1.351000   -4.541000    1.236000    0.021000    0.016000   \n",
       "50%     -0.089000    1.477000   -2.584000    2.128000    0.023000    0.018000   \n",
       "75%      2.180000    1.572000   -0.276000    4.649000    0.027000    0.019000   \n",
       "max      3.722000    1.885000    1.063000    6.703000    0.065000    0.046000   \n",
       "\n",
       "          ess_bulk     ess_tail       r_hat  \n",
       "count   373.000000   373.000000  373.000000  \n",
       "mean   3898.935657  3470.597855    1.000509  \n",
       "std    1238.349594   581.353629    0.002434  \n",
       "min     300.000000   845.000000    1.000000  \n",
       "25%    3882.000000  3490.000000    1.000000  \n",
       "50%    4389.000000  3709.000000    1.000000  \n",
       "75%    4559.000000  3821.000000    1.000000  \n",
       "max    6039.000000  3974.000000    1.020000  "
      ]
     },
     "execution_count": 33,
     "metadata": {},
     "output_type": "execute_result"
    }
   ],
   "source": [
    "arv = arviz.from_numpyro(mcmc)\n",
    "arviz.summary(arv).describe()"
   ]
  },
  {
   "cell_type": "code",
   "execution_count": 42,
   "id": "388505b6f9804162",
   "metadata": {
    "ExecuteTime": {
     "end_time": "2024-12-12T12:44:26.581791Z",
     "start_time": "2024-12-12T12:44:26.577135Z"
    }
   },
   "outputs": [
    {
     "name": "stdout",
     "output_type": "stream",
     "text": [
      "Training accuracy: 98.0%\n"
     ]
    }
   ],
   "source": [
    "acc_train = (mcmc.get_samples()[\"logits\"].mean(0).argmax(1) == y_train).mean()\n",
    "print(f\"Training accuracy: {acc_train:.1%}\")"
   ]
  },
  {
   "cell_type": "code",
   "id": "64cc3706df095a62",
   "metadata": {
    "ExecuteTime": {
     "end_time": "2024-12-12T12:45:24.228839Z",
     "start_time": "2024-12-12T12:45:24.079048Z"
    }
   },
   "source": [
    "pred_logits = numpyro.infer.Predictive(Model(), mcmc.get_samples())(\n",
    "    jax.random.key(0), x_test\n",
    ")[\"logits\"]\n",
    "acc_test = (pred_logits.mean(0).argmax(1) == y_test).mean()\n",
    "print(f\"Test accuracy: {acc_test:.1%}\")"
   ],
   "outputs": [
    {
     "name": "stdout",
     "output_type": "stream",
     "text": [
      "Test accuracy: 98.0%\n"
     ]
    }
   ],
   "execution_count": 50
  }
 ],
 "metadata": {
  "kernelspec": {
   "display_name": "Python 3",
   "language": "python",
   "name": "python3"
  },
  "language_info": {
   "codemirror_mode": {
    "name": "ipython",
    "version": 2
   },
   "file_extension": ".py",
   "mimetype": "text/x-python",
   "name": "python",
   "nbconvert_exporter": "python",
   "pygments_lexer": "ipython2",
   "version": "2.7.6"
  }
 },
 "nbformat": 4,
 "nbformat_minor": 5
}
