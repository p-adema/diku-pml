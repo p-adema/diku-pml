{
 "cells": [
  {
   "cell_type": "code",
   "execution_count": 47,
   "id": "initial_id",
   "metadata": {
    "ExecuteTime": {
     "end_time": "2025-01-15T11:22:22.979787Z",
     "start_time": "2025-01-15T11:22:22.894896Z"
    },
    "collapsed": true
   },
   "outputs": [],
   "source": [
    "import warnings\n",
    "from functools import partial\n",
    "\n",
    "import arviz\n",
    "import jax\n",
    "import jax.numpy as jnp\n",
    "import jax.scipy.stats as jstats\n",
    "import matplotlib.pyplot as plt\n",
    "import numpyro\n",
    "import pandas as pd\n",
    "import scipy.optimize as opt\n",
    "import seaborn as sns\n",
    "from numpyro import distributions as dist\n",
    "from sklearn.model_selection import train_test_split\n",
    "from tqdm.auto import tqdm"
   ]
  },
  {
   "cell_type": "code",
   "execution_count": 48,
   "id": "92bf56507962e355",
   "metadata": {
    "ExecuteTime": {
     "end_time": "2025-01-15T11:22:23.482339Z",
     "start_time": "2025-01-15T11:22:22.993959Z"
    }
   },
   "outputs": [
    {
     "data": {
      "text/plain": [
       "Array(2.5, dtype=float32, weak_type=True)"
      ]
     },
     "execution_count": 48,
     "metadata": {},
     "output_type": "execute_result"
    }
   ],
   "source": [
    "@jax.jit\n",
    "def g(x):\n",
    "    return -(jnp.sin(6 * jnp.pi * x) ** 2) + 6 * x**2 - 5 * x**4 + 3 / 2\n",
    "\n",
    "\n",
    "g(1)"
   ]
  },
  {
   "cell_type": "code",
   "execution_count": 49,
   "id": "b9e73aa2e72c3c2",
   "metadata": {
    "ExecuteTime": {
     "end_time": "2025-01-15T11:22:23.747026Z",
     "start_time": "2025-01-15T11:22:23.523589Z"
    }
   },
   "outputs": [
    {
     "data": {
      "text/plain": [
       "(Array([0.6551724 , 0.3448276 , 1.        , 0.1724138 , 0.10344827,\n",
       "        0.20689654, 0.37931034, 0.62068963, 0.06896552, 0.7241379 ,\n",
       "        0.6896552 , 0.03448276], dtype=float32),\n",
       " Array([3.0942016 , 2.0757453 , 2.4888556 , 1.6713592 , 0.7148039 ,\n",
       "        1.2704791 , 1.6844136 , 2.490983  , 0.58994573, 2.4922152 ,\n",
       "        3.040235  , 1.1502597 ], dtype=float32),\n",
       " Array([0.13793103, 0.4827586 , 0.2413793 , 0.55172414, 0.86206895,\n",
       "        0.7586207 , 0.8965517 , 0.44827586], dtype=float32),\n",
       " Array([1.3570876, 2.5320344, 0.8686456, 2.1747959, 2.9203305, 2.3315835,\n",
       "        2.223386 , 1.8244766], dtype=float32),\n",
       " Array([0.9310345 , 0.51724136, 0.79310346, 0.5862069 , 0.27586207,\n",
       "        0.31034482, 0.9655172 , 0.8275862 , 0.4137931 , 0.        ],      dtype=float32),\n",
       " Array([2.0140355, 2.6466045, 2.811917 , 1.9905599, 1.1414744, 1.855348 ,\n",
       "        2.37807  , 3.241496 , 1.3928322, 1.4971629], dtype=float32))"
      ]
     },
     "execution_count": 49,
     "metadata": {},
     "output_type": "execute_result"
    }
   ],
   "source": [
    "dataset_t = tuple[\n",
    "    jnp.ndarray, jnp.ndarray, jnp.ndarray, jnp.ndarray, jnp.ndarray, jnp.ndarray\n",
    "]\n",
    "\n",
    "\n",
    "# Training set to condition the kernel on, validation set to tune hyperparameters\n",
    "# / calculate likelihood for mcmc, test set to compare models with\n",
    "@partial(jax.jit, static_argnums=(0,))\n",
    "def generate_dataset(number_of_obs=30, key: jnp.ndarray = None) -> dataset_t:\n",
    "    if key is None:\n",
    "        key = jax.random.key(0)\n",
    "    x_data = jnp.linspace(0, 1, number_of_obs)\n",
    "    y_data = g(x_data) + jax.random.normal(key, x_data.shape) * 0.01\n",
    "    x_train_valid, x_test, y_train_valid, y_test = train_test_split(\n",
    "        x_data, y_data, train_size=number_of_obs // 3 * 2, random_state=42\n",
    "    )\n",
    "    x_train, x_valid, y_train, y_valid = train_test_split(\n",
    "        x_train_valid, y_train_valid, train_size=0.6, random_state=42\n",
    "    )\n",
    "    return x_train, y_train, x_valid, y_valid, x_test, y_test\n",
    "\n",
    "\n",
    "generate_dataset(30)"
   ]
  },
  {
   "cell_type": "code",
   "execution_count": 53,
   "id": "45c04d1676bb549b",
   "metadata": {
    "ExecuteTime": {
     "end_time": "2025-01-15T11:22:23.815313Z",
     "start_time": "2025-01-15T11:22:23.786741Z"
    }
   },
   "outputs": [
    {
     "data": {
      "text/plain": [
       "Array([[1.7080734, 0.2919265, 1.7080735],\n",
       "       [0.2919265, 2.2705736, 1.5419264],\n",
       "       [1.7080735, 1.5419264, 4.7080736]], dtype=float32)"
      ]
     },
     "execution_count": 53,
     "metadata": {},
     "output_type": "execute_result"
    }
   ],
   "source": [
    "@partial(jnp.vectorize, signature=\"(x),(z),(2)->(x,z)\")\n",
    "@jax.jit\n",
    "def wavy_kernel(x: jnp.ndarray, y: jnp.ndarray, params: jnp.ndarray):\n",
    "    a, b = params[0], params[1]\n",
    "    return (1 + x.reshape((-1, 1)) @ y.reshape((1, -1))) ** 2 + a * (\n",
    "        jnp.sin(2 * jnp.pi * x.flatten() + b).reshape((-1, 1))\n",
    "        * jnp.sin(2 * jnp.pi * y.flatten() + b).reshape((1, -1))\n",
    "    )\n",
    "\n",
    "\n",
    "ex_x = jnp.linspace(0, 1, num=3)\n",
    "wavy_kernel(ex_x, ex_x, jnp.array([1, 1]))"
   ]
  },
  {
   "cell_type": "code",
   "execution_count": 54,
   "id": "9b225cb4b297677a",
   "metadata": {
    "ExecuteTime": {
     "end_time": "2025-01-15T11:22:23.828409Z",
     "start_time": "2025-01-15T11:22:23.825273Z"
    }
   },
   "outputs": [],
   "source": [
    "@jax.jit\n",
    "def parameter_prior_wavy(noise_params: jnp.ndarray):\n",
    "    noise_y, a, b = noise_params[0], noise_params[1], noise_params[2]\n",
    "    return (\n",
    "        jstats.expon.logpdf(noise_y)\n",
    "        + jstats.expon.logpdf(a)\n",
    "        + jstats.uniform.logpdf(b, loc=0, scale=2 * jnp.pi)\n",
    "    )"
   ]
  },
  {
   "cell_type": "code",
   "execution_count": 55,
   "id": "a131df6707c74468",
   "metadata": {
    "ExecuteTime": {
     "end_time": "2025-01-15T11:22:23.839421Z",
     "start_time": "2025-01-15T11:22:23.835887Z"
    }
   },
   "outputs": [],
   "source": [
    "kernel = wavy_kernel\n",
    "num_kernel_params = 2\n",
    "ex_params = jnp.array([1, 1])\n",
    "parameter_prior = parameter_prior_wavy"
   ]
  },
  {
   "cell_type": "code",
   "execution_count": 56,
   "id": "33c2b10c17fb1008",
   "metadata": {
    "ExecuteTime": {
     "end_time": "2025-01-15T11:22:23.937038Z",
     "start_time": "2025-01-15T11:22:23.846776Z"
    }
   },
   "outputs": [
    {
     "data": {
      "text/plain": [
       "(Array([0.02836096, 0.4943103 ], dtype=float32),\n",
       " Array([[ 0.09142661, -0.00116915],\n",
       "        [-0.0011692 ,  0.09450984]], dtype=float32))"
      ]
     },
     "execution_count": 56,
     "metadata": {},
     "output_type": "execute_result"
    }
   ],
   "source": [
    "@partial(jnp.vectorize, signature=f\"(t),(t),(s),(),({num_kernel_params})->(s),(s,s)\")\n",
    "@jax.jit\n",
    "def posterior_conditional(\n",
    "    x_train: jnp.ndarray,\n",
    "    y_train: jnp.ndarray,\n",
    "    x_star: jnp.ndarray,\n",
    "    noise_y: float,\n",
    "    params: jnp.ndarray,\n",
    "):\n",
    "    inverse_cov = jnp.linalg.inv(\n",
    "        kernel(x_train, x_train, params) + noise_y * jnp.identity(len(x_train))\n",
    "    )\n",
    "    kernel_star = kernel(x_train, x_star, params)\n",
    "    mu_star = kernel_star.T @ inverse_cov @ y_train\n",
    "    cov_star = (\n",
    "        kernel(x_star, x_star, params) - kernel_star.T @ inverse_cov @ kernel_star\n",
    "    )\n",
    "    return mu_star, cov_star\n",
    "\n",
    "\n",
    "posterior_conditional(ex_x, ex_x, ex_x[:2], 0.1, ex_params)"
   ]
  },
  {
   "cell_type": "code",
   "execution_count": 78,
   "id": "3925b97c5a4e0c4a",
   "metadata": {
    "ExecuteTime": {
     "end_time": "2025-01-15T11:39:14.428925Z",
     "start_time": "2025-01-15T11:39:14.331028Z"
    }
   },
   "outputs": [
    {
     "data": {
      "text/plain": [
       "Array(-44.78116, dtype=float32)"
      ]
     },
     "execution_count": 78,
     "metadata": {},
     "output_type": "execute_result"
    }
   ],
   "source": [
    "@partial(jax.jit, static_argnames=(\"use_test_set\",))\n",
    "def log_posterior_prob(\n",
    "    params: jnp.ndarray, dataset: dataset_t, noise_y=0.01, use_test_set: bool = False\n",
    "):\n",
    "    if use_test_set:\n",
    "        x_train, y_train, _x_valid, _y_valid, x_star, y_star = dataset\n",
    "    else:\n",
    "        x_train, y_train, x_star, y_star, _x_test, _y_test = dataset\n",
    "\n",
    "    mu_star, cov_star = posterior_conditional(x_train, y_train, x_star, noise_y, params)\n",
    "    cov = cov_star + noise_y * jnp.identity(len(mu_star))\n",
    "    logpdf = jstats.multivariate_normal.logpdf(y_star, mean=mu_star, cov=cov)\n",
    "    prior = parameter_prior(params)\n",
    "    return jnp.nan_to_num(logpdf + prior, nan=-jnp.inf)\n",
    "\n",
    "\n",
    "log_posterior_prob(ex_params, generate_dataset(30))"
   ]
  },
  {
   "cell_type": "code",
   "execution_count": 79,
   "id": "7813e314560aae36",
   "metadata": {
    "ExecuteTime": {
     "end_time": "2025-01-15T11:39:17.741678Z",
     "start_time": "2025-01-15T11:39:17.737947Z"
    }
   },
   "outputs": [],
   "source": [
    "def grid_search(\n",
    "    search_ranges: tuple[tuple[float, float], ...], grid_size: int, dataset: dataset_t\n",
    "):\n",
    "    opt_params = opt.brute(\n",
    "        lambda p: -log_posterior_prob(p, dataset),\n",
    "        search_ranges,\n",
    "        Ns=grid_size,\n",
    "        finish=None,\n",
    "    )\n",
    "    return opt_params"
   ]
  },
  {
   "cell_type": "code",
   "execution_count": 80,
   "id": "5c101078b27d1459",
   "metadata": {
    "ExecuteTime": {
     "end_time": "2025-01-15T11:39:18.092176Z",
     "start_time": "2025-01-15T11:39:18.088561Z"
    }
   },
   "outputs": [],
   "source": [
    "ex_dataset = generate_dataset()"
   ]
  },
  {
   "cell_type": "code",
   "execution_count": 86,
   "id": "5c0babb3eb73a381",
   "metadata": {
    "ExecuteTime": {
     "end_time": "2025-01-15T11:39:44.745173Z",
     "start_time": "2025-01-15T11:39:43.105529Z"
    }
   },
   "outputs": [
    {
     "data": {
      "text/plain": [
       "array([0.10702341, 0.46230795])"
      ]
     },
     "execution_count": 86,
     "metadata": {},
     "output_type": "execute_result"
    }
   ],
   "source": [
    "found_params = grid_search(\n",
    "    search_ranges=((0, 2), (0, 2 * jnp.pi)),\n",
    "    grid_size=300,\n",
    "    dataset=ex_dataset,\n",
    ")\n",
    "found_params"
   ]
  },
  {
   "cell_type": "code",
   "execution_count": 87,
   "id": "f1f64f6634b2edbf",
   "metadata": {
    "ExecuteTime": {
     "end_time": "2025-01-15T11:39:49.088692Z",
     "start_time": "2025-01-15T11:39:48.985672Z"
    }
   },
   "outputs": [
    {
     "data": {
      "text/plain": [
       "Array(-76.760254, dtype=float32)"
      ]
     },
     "execution_count": 87,
     "metadata": {},
     "output_type": "execute_result"
    }
   ],
   "source": [
    "log_posterior_prob(found_params, ex_dataset, use_test_set=True)"
   ]
  },
  {
   "cell_type": "code",
   "execution_count": 88,
   "id": "9997f46edf46226c",
   "metadata": {
    "ExecuteTime": {
     "end_time": "2025-01-15T11:40:30.316920Z",
     "start_time": "2025-01-15T11:40:30.311619Z"
    }
   },
   "outputs": [],
   "source": [
    "class KernelProbDensity(dist.Distribution):\n",
    "    support = dist.constraints.interval(-3, 3)\n",
    "    arg_constraints = {\"start\": support}  # noqa: RUF012\n",
    "\n",
    "    def __init__(self, dataset: dataset_t, start: jnp.ndarray = None):\n",
    "        if start is None:\n",
    "            start = ex_params\n",
    "        assert start.shape == (num_kernel_params,), start.shape\n",
    "        self.start = start\n",
    "        self.dataset = dataset\n",
    "        super().__init__(event_shape=(num_kernel_params,))\n",
    "\n",
    "    def sample(self, _key, sample_shape=()):\n",
    "        return jnp.full(sample_shape, self.start)\n",
    "\n",
    "    def log_prob(self, value):\n",
    "        assert value.shape == (\n",
    "            num_kernel_params,\n",
    "        ), f\"{value.shape=} {num_kernel_params=}\"\n",
    "        return log_posterior_prob(value, self.dataset)"
   ]
  },
  {
   "cell_type": "code",
   "execution_count": 89,
   "id": "86ab59f9a2d9bdd2",
   "metadata": {
    "ExecuteTime": {
     "end_time": "2025-01-15T11:40:32.335923Z",
     "start_time": "2025-01-15T11:40:32.332884Z"
    }
   },
   "outputs": [],
   "source": [
    "def mcmc_kernel_model(dataset: dataset_t):\n",
    "    return numpyro.sample(\"noise_params\", KernelProbDensity(dataset))"
   ]
  },
  {
   "cell_type": "code",
   "execution_count": 90,
   "id": "a83fe5c1f68ddccb",
   "metadata": {
    "ExecuteTime": {
     "end_time": "2025-01-15T11:40:32.793132Z",
     "start_time": "2025-01-15T11:40:32.790410Z"
    }
   },
   "outputs": [],
   "source": [
    "warnings.filterwarnings(\n",
    "    \"ignore\", message=\"There are not enough devices to run parallel chains\"\n",
    ")"
   ]
  },
  {
   "cell_type": "code",
   "execution_count": 91,
   "id": "12b9790a4f594328",
   "metadata": {
    "ExecuteTime": {
     "end_time": "2025-01-15T11:40:45.301198Z",
     "start_time": "2025-01-15T11:40:33.549361Z"
    }
   },
   "outputs": [
    {
     "name": "stderr",
     "output_type": "stream",
     "text": [
      "sample: 100%|██████████| 5000/5000 [00:02<00:00, 2201.28it/s, 42 steps of size 5.86e-02. acc. prob=0.79]\n",
      "sample: 100%|██████████| 5000/5000 [00:01<00:00, 4707.78it/s, 10 steps of size 1.30e-01. acc. prob=0.73]\n",
      "sample: 100%|██████████| 5000/5000 [00:01<00:00, 4664.61it/s, 13 steps of size 1.24e-01. acc. prob=0.68]\n",
      "sample: 100%|██████████| 5000/5000 [00:01<00:00, 4535.20it/s, 19 steps of size 2.10e-01. acc. prob=0.68]\n",
      "sample: 100%|██████████| 5000/5000 [00:01<00:00, 4593.00it/s, 13 steps of size 1.78e-01. acc. prob=0.76]\n",
      "sample: 100%|██████████| 5000/5000 [00:01<00:00, 2697.67it/s, 59 steps of size 4.53e-02. acc. prob=0.83]\n",
      "sample: 100%|██████████| 5000/5000 [00:01<00:00, 4444.21it/s, 5 steps of size 1.06e-01. acc. prob=0.77] \n",
      "sample: 100%|██████████| 5000/5000 [00:01<00:00, 3628.82it/s, 31 steps of size 9.00e-02. acc. prob=0.82]\n"
     ]
    }
   ],
   "source": [
    "nuts_kernel = numpyro.infer.NUTS(mcmc_kernel_model)\n",
    "ex_mcmc = numpyro.infer.MCMC(\n",
    "    nuts_kernel, num_samples=3_000, num_chains=8, num_warmup=2000, progress_bar=True\n",
    ")\n",
    "ex_mcmc.run(jax.random.key(1), ex_dataset)"
   ]
  },
  {
   "cell_type": "code",
   "execution_count": 93,
   "id": "372e89ccf6f1b8bf",
   "metadata": {
    "ExecuteTime": {
     "end_time": "2025-01-15T11:41:00.937650Z",
     "start_time": "2025-01-15T11:41:00.401477Z"
    }
   },
   "outputs": [
    {
     "data": {
      "image/png": "[encoded data removed]",
      "text/plain": [
       "<Figure size 640x480 with 1 Axes>"
      ]
     },
     "metadata": {},
     "output_type": "display_data"
    }
   ],
   "source": [
    "samples: jnp.ndarray = ex_mcmc.get_samples()[\"noise_params\"]\n",
    "sns.histplot(pd.DataFrame(samples, columns=[\"a\", \"b\"]), binwidth=0.005).set(\n",
    "    xlabel=\"Parameter value\", title=\"Histogram of MCMC parameter posterior samples\"\n",
    ")\n",
    "plt.show()"
   ]
  },
  {
   "cell_type": "code",
   "execution_count": 94,
   "id": "6585813d98babcf7",
   "metadata": {
    "ExecuteTime": {
     "end_time": "2025-01-15T11:41:21.696070Z",
     "start_time": "2025-01-15T11:41:21.652177Z"
    }
   },
   "outputs": [
    {
     "data": {
      "text/html": [
       "<div>\n",
       "<style scoped>\n",
       "    .dataframe tbody tr th:only-of-type {\n",
       "        vertical-align: middle;\n",
       "    }\n",
       "\n",
       "    .dataframe tbody tr th {\n",
       "        vertical-align: top;\n",
       "    }\n",
       "\n",
       "    .dataframe thead th {\n",
       "        text-align: right;\n",
       "    }\n",
       "</style>\n",
       "<table border=\"1\" class=\"dataframe\">\n",
       "  <thead>\n",
       "    <tr style=\"text-align: right;\">\n",
       "      <th></th>\n",
       "      <th>mean</th>\n",
       "      <th>sd</th>\n",
       "      <th>hdi_3%</th>\n",
       "      <th>hdi_97%</th>\n",
       "      <th>mcse_mean</th>\n",
       "      <th>mcse_sd</th>\n",
       "      <th>ess_bulk</th>\n",
       "      <th>ess_tail</th>\n",
       "      <th>r_hat</th>\n",
       "    </tr>\n",
       "  </thead>\n",
       "  <tbody>\n",
       "    <tr>\n",
       "      <th>a</th>\n",
       "      <td>0.844</td>\n",
       "      <td>0.69</td>\n",
       "      <td>0.010</td>\n",
       "      <td>2.195</td>\n",
       "      <td>0.016</td>\n",
       "      <td>0.011</td>\n",
       "      <td>1785.0</td>\n",
       "      <td>1822.0</td>\n",
       "      <td>1.01</td>\n",
       "    </tr>\n",
       "    <tr>\n",
       "      <th>b</th>\n",
       "      <td>0.471</td>\n",
       "      <td>0.22</td>\n",
       "      <td>0.052</td>\n",
       "      <td>0.855</td>\n",
       "      <td>0.005</td>\n",
       "      <td>0.003</td>\n",
       "      <td>2234.0</td>\n",
       "      <td>3907.0</td>\n",
       "      <td>1.00</td>\n",
       "    </tr>\n",
       "  </tbody>\n",
       "</table>\n",
       "</div>"
      ],
      "text/plain": [
       "    mean    sd  hdi_3%  hdi_97%  mcse_mean  mcse_sd  ess_bulk  ess_tail  r_hat\n",
       "a  0.844  0.69   0.010    2.195      0.016    0.011    1785.0    1822.0   1.01\n",
       "b  0.471  0.22   0.052    0.855      0.005    0.003    2234.0    3907.0   1.00"
      ]
     },
     "execution_count": 94,
     "metadata": {},
     "output_type": "execute_result"
    }
   ],
   "source": [
    "arv = arviz.from_dict(ex_mcmc.get_samples(group_by_chain=True))\n",
    "summ = arviz.summary(arv)\n",
    "summ.index = [\"a\", \"b\"]\n",
    "summ"
   ]
  },
  {
   "cell_type": "code",
   "execution_count": 95,
   "id": "1a553aa85f24a315",
   "metadata": {
    "ExecuteTime": {
     "end_time": "2025-01-15T11:41:59.254013Z",
     "start_time": "2025-01-15T11:41:59.158332Z"
    }
   },
   "outputs": [
    {
     "data": {
      "image/png": "[encoded data removed]",
      "text/plain": [
       "<Figure size 1472x552 with 2 Axes>"
      ]
     },
     "metadata": {},
     "output_type": "display_data"
    }
   ],
   "source": [
    "arviz.plot_posterior(arv)\n",
    "plt.show()"
   ]
  },
  {
   "cell_type": "code",
   "execution_count": 97,
   "id": "a34499885f116c98",
   "metadata": {
    "ExecuteTime": {
     "end_time": "2025-01-15T11:42:06.834642Z",
     "start_time": "2025-01-15T11:42:06.811294Z"
    }
   },
   "outputs": [
    {
     "data": {
      "text/plain": [
       "(500, 2)"
      ]
     },
     "execution_count": 97,
     "metadata": {},
     "output_type": "execute_result"
    }
   ],
   "source": [
    "ex_strided_post_samples = ex_mcmc.get_samples(group_by_chain=True)[\n",
    "    \"noise_params\"\n",
    "].reshape((-1, 2))[:: 8 * 6]\n",
    "ex_strided_post_samples.shape"
   ]
  },
  {
   "cell_type": "code",
   "execution_count": 98,
   "id": "6c77f49f9f9d7237",
   "metadata": {
    "ExecuteTime": {
     "end_time": "2025-01-15T11:42:09.198681Z",
     "start_time": "2025-01-15T11:42:08.769330Z"
    }
   },
   "outputs": [
    {
     "data": {
      "text/plain": [
       "Array(-78.65895, dtype=float32)"
      ]
     },
     "execution_count": 98,
     "metadata": {},
     "output_type": "execute_result"
    }
   ],
   "source": [
    "def approx_posterior(posterior_samples: jnp.ndarray, dataset: dataset_t):\n",
    "    return jax.vmap(partial(log_posterior_prob, dataset=dataset, use_test_set=True))(\n",
    "        posterior_samples\n",
    "    )\n",
    "\n",
    "\n",
    "approx_posterior(ex_strided_post_samples, ex_dataset).mean()"
   ]
  },
  {
   "cell_type": "code",
   "id": "6531400a0010d3fc",
   "metadata": {
    "ExecuteTime": {
     "end_time": "2025-01-15T12:36:42.942294Z",
     "start_time": "2025-01-15T12:36:42.937154Z"
    }
   },
   "source": [
    "def repeat_estimate(key: jnp.ndarray = None, n_times: int = 20, n_obs: int = 30):\n",
    "    if key is None:\n",
    "        key = jax.random.key(42)\n",
    "\n",
    "    map_likelihoods = []\n",
    "    mcmc_likelihoods = []\n",
    "\n",
    "    bar = tqdm(jax.random.split(key, n_times), desc=\"Repeated estimation\")\n",
    "    for iter_key in bar:\n",
    "        data_key, mcmc_key = jax.random.split(iter_key)\n",
    "        dataset = generate_dataset(number_of_obs=n_obs, key=data_key)\n",
    "        map_params = grid_search(\n",
    "            search_ranges=((-1, 1), (0, 2 * jnp.pi)),\n",
    "            grid_size=300,\n",
    "            dataset=ex_dataset,\n",
    "        )\n",
    "        map_likelihoods.append(\n",
    "            log_posterior_prob(map_params, dataset, use_test_set=True)\n",
    "        )\n",
    "\n",
    "        mcmc = numpyro.infer.MCMC(\n",
    "            nuts_kernel,\n",
    "            num_samples=3_000,\n",
    "            num_chains=8,\n",
    "            num_warmup=2_000,\n",
    "            progress_bar=False,\n",
    "        )\n",
    "        mcmc.run(mcmc_key, dataset)\n",
    "        strided_samples = mcmc.get_samples(group_by_chain=True)[\"noise_params\"].reshape(\n",
    "            (-1, 3)\n",
    "        )[:: 8 * 6]\n",
    "        mcls = approx_posterior(strided_samples, dataset)\n",
    "        mcl = jnp.nanmean(mcls, where=mcls > -1e5)\n",
    "        mcmc_likelihoods.append(mcl)\n",
    "        bar.set_postfix(mcl=mcl)\n",
    "\n",
    "    return jnp.array(map_likelihoods), jnp.array(mcmc_likelihoods)"
   ],
   "outputs": [],
   "execution_count": 130
  },
  {
   "cell_type": "code",
   "id": "a17fee57f04aa4f0",
   "metadata": {
    "ExecuteTime": {
     "end_time": "2025-01-15T12:46:06.553842Z",
     "start_time": "2025-01-15T12:36:43.432976Z"
    }
   },
   "source": [
    "map_ls, mcmc_ls = repeat_estimate()"
   ],
   "outputs": [
    {
     "data": {
      "text/plain": [
       "Repeated estimation:   0%|          | 0/20 [00:00<?, ?it/s]"
      ],
      "application/vnd.jupyter.widget-view+json": {
       "version_major": 2,
       "version_minor": 0,
       "model_id": "d27f11c95dd642efb4bc3e8ec993dd38"
      }
     },
     "metadata": {},
     "output_type": "display_data"
    }
   ],
   "execution_count": 131
  },
  {
   "cell_type": "code",
   "id": "f552faaaa7705a6b",
   "metadata": {
    "ExecuteTime": {
     "end_time": "2025-01-15T12:46:25.810808Z",
     "start_time": "2025-01-15T12:46:25.805281Z"
    }
   },
   "source": [
    "print(f\"MAP likelhoods:  \\tmean {map_ls.mean()}, \\tstd: {map_ls.std()}\")\n",
    "print(f\"MCMC likelhoods: \\tmean {mcmc_ls.mean()}, \\tstd: {mcmc_ls.std()}\")"
   ],
   "outputs": [
    {
     "name": "stdout",
     "output_type": "stream",
     "text": [
      "MAP likelhoods:  \tmean -80.6949462890625, \tstd: 1.4820791482925415\n",
      "MCMC likelhoods: \tmean -81.43738555908203, \tstd: 1.5941925048828125\n"
     ]
    }
   ],
   "execution_count": 132
  },
  {
   "cell_type": "code",
   "id": "f8a3e63f90f84810",
   "metadata": {
    "ExecuteTime": {
     "end_time": "2025-01-15T12:46:29.324584Z",
     "start_time": "2025-01-15T12:46:29.318443Z"
    }
   },
   "source": [
    "map_ls, mcmc_ls"
   ],
   "outputs": [
    {
     "data": {
      "text/plain": [
       "(Array([-80.50669 , -80.88887 , -81.2008  , -79.37124 , -77.4823  ,\n",
       "        -79.350044, -82.66865 , -79.86621 , -80.78842 , -80.22524 ,\n",
       "        -83.344315, -79.36245 , -79.79477 , -80.41877 , -81.53546 ,\n",
       "        -82.19196 , -83.2183  , -79.14355 , -80.07817 , -82.46275 ],      dtype=float32),\n",
       " Array([-80.88577 , -82.164154, -82.194   , -79.55256 , -78.804214,\n",
       "        -79.726685, -83.003265, -81.026886, -81.32177 , -80.868576,\n",
       "        -84.44162 , -79.926285, -80.93972 , -81.52432 , -81.35621 ,\n",
       "        -83.079185, -84.87541 , -79.278625, -80.91472 , -82.8637  ],      dtype=float32))"
      ]
     },
     "execution_count": 133,
     "metadata": {},
     "output_type": "execute_result"
    }
   ],
   "execution_count": 133
  }
 ],
 "metadata": {
  "kernelspec": {
   "display_name": "Python 3",
   "language": "python",
   "name": "python3"
  },
  "language_info": {
   "codemirror_mode": {
    "name": "ipython",
    "version": 2
   },
   "file_extension": ".py",
   "mimetype": "text/x-python",
   "name": "python",
   "nbconvert_exporter": "python",
   "pygments_lexer": "ipython2",
   "version": "2.7.6"
  }
 },
 "nbformat": 4,
 "nbformat_minor": 5
}
