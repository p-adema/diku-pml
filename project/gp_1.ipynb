{
 "cells": [
  {
   "cell_type": "code",
   "execution_count": 200,
   "id": "initial_id",
   "metadata": {
    "ExecuteTime": {
     "end_time": "2025-01-10T13:18:39.683844Z",
     "start_time": "2025-01-10T13:18:39.676606Z"
    },
    "collapsed": true
   },
   "outputs": [],
   "source": [
    "from functools import partial\n",
    "from typing import Callable\n",
    "\n",
    "import arviz\n",
    "import jax\n",
    "import jax.numpy as jnp\n",
    "import scipy.optimize as opt\n",
    "import jax.scipy.stats as jstats\n",
    "import matplotlib.pyplot as plt\n",
    "import numpyro\n",
    "import pandas as pd\n",
    "import seaborn as sns\n",
    "from numpyro import distributions as dist\n",
    "from sklearn.model_selection import train_test_split\n",
    "from tqdm.auto import tqdm\n",
    "import warnings"
   ]
  },
  {
   "cell_type": "code",
   "execution_count": 2,
   "id": "92bf56507962e355",
   "metadata": {
    "ExecuteTime": {
     "end_time": "2025-01-10T11:22:21.386253Z",
     "start_time": "2025-01-10T11:22:21.356226Z"
    }
   },
   "outputs": [
    {
     "data": {
      "text/plain": [
       "Array(2.5, dtype=float32, weak_type=True)"
      ]
     },
     "execution_count": 2,
     "metadata": {},
     "output_type": "execute_result"
    }
   ],
   "source": [
    "@jax.jit\n",
    "def g(x):\n",
    "    return -(jnp.sin(6 * jnp.pi * x) ** 2) + 6 * x**2 - 5 * x**4 + 3 / 2\n",
    "\n",
    "\n",
    "g(1)"
   ]
  },
  {
   "cell_type": "code",
   "execution_count": 170,
   "id": "b9e73aa2e72c3c2",
   "metadata": {
    "ExecuteTime": {
     "end_time": "2025-01-10T13:02:41.978791Z",
     "start_time": "2025-01-10T13:02:41.876159Z"
    }
   },
   "outputs": [
    {
     "data": {
      "text/plain": [
       "(Array([0.6551724 , 0.3448276 , 1.        , 0.1724138 , 0.10344827,\n",
       "        0.20689654, 0.37931034, 0.62068963, 0.06896552, 0.7241379 ,\n",
       "        0.6896552 , 0.03448276], dtype=float32),\n",
       " Array([3.0942016 , 2.0757453 , 2.4888556 , 1.6713592 , 0.7148039 ,\n",
       "        1.2704791 , 1.6844136 , 2.490983  , 0.58994573, 2.4922152 ,\n",
       "        3.040235  , 1.1502597 ], dtype=float32),\n",
       " Array([0.13793103, 0.4827586 , 0.2413793 , 0.55172414, 0.86206895,\n",
       "        0.7586207 , 0.8965517 , 0.44827586], dtype=float32),\n",
       " Array([1.3570876, 2.5320344, 0.8686456, 2.1747959, 2.9203305, 2.3315835,\n",
       "        2.223386 , 1.8244766], dtype=float32),\n",
       " Array([0.9310345 , 0.51724136, 0.79310346, 0.5862069 , 0.27586207,\n",
       "        0.31034482, 0.9655172 , 0.8275862 , 0.4137931 , 0.        ],      dtype=float32),\n",
       " Array([2.0140355, 2.6466045, 2.811917 , 1.9905599, 1.1414744, 1.855348 ,\n",
       "        2.37807  , 3.241496 , 1.3928322, 1.4971629], dtype=float32))"
      ]
     },
     "execution_count": 170,
     "metadata": {},
     "output_type": "execute_result"
    }
   ],
   "source": [
    "dataset_t = tuple[\n",
    "    jnp.ndarray, jnp.ndarray, jnp.ndarray, jnp.ndarray, jnp.ndarray, jnp.ndarray\n",
    "]\n",
    "\n",
    "\n",
    "# Training set to condition the kernel on, validation set to tune hyperparameters\n",
    "# / calculate likelihood for mcmc, test set to compare models with\n",
    "@partial(jax.jit, static_argnums=(0,))\n",
    "def generate_dataset(number_of_obs=30, key: jnp.ndarray = None) -> dataset_t:\n",
    "    if key is None:\n",
    "        key = jax.random.key(0)\n",
    "    x_data = jnp.linspace(0, 1, number_of_obs)\n",
    "    y_data = g(x_data) + jax.random.normal(key, x_data.shape) * 0.01\n",
    "    x_train_valid, x_test, y_train_valid, y_test = train_test_split(\n",
    "        x_data, y_data, train_size=number_of_obs // 3 * 2, random_state=42\n",
    "    )\n",
    "    x_train, x_valid, y_train, y_valid = train_test_split(\n",
    "        x_train_valid, y_train_valid, train_size=0.6, random_state=42\n",
    "    )\n",
    "    return x_train, y_train, x_valid, y_valid, x_test, y_test\n",
    "\n",
    "\n",
    "generate_dataset(30)"
   ]
  },
  {
   "cell_type": "code",
   "execution_count": 30,
   "id": "13fdd7250577dd8f",
   "metadata": {
    "ExecuteTime": {
     "end_time": "2025-01-10T11:24:57.838256Z",
     "start_time": "2025-01-10T11:24:57.803990Z"
    }
   },
   "outputs": [
    {
     "data": {
      "text/plain": [
       "Array([[[2.        , 1.7777778 , 1.3333334 ],\n",
       "        [1.7777778 , 2.        , 1.7777778 ],\n",
       "        [1.3333334 , 1.7777778 , 2.        ]],\n",
       "\n",
       "       [[0.5       , 0.4848485 , 0.44444445],\n",
       "        [0.4848485 , 0.5       , 0.4848485 ],\n",
       "        [0.44444445, 0.4848485 , 0.5       ]]], dtype=float32)"
      ]
     },
     "execution_count": 30,
     "metadata": {},
     "output_type": "execute_result"
    }
   ],
   "source": [
    "# Params (6): [Variance periodic, Length-scale periodic, Period, Variance rational, Mixture scale rational]\n",
    "\n",
    "\n",
    "@partial(jnp.vectorize, signature=\"(x),(z),(4)->(x,z)\")\n",
    "@jax.jit\n",
    "def rational_quadratic(x: jnp.ndarray, z: jnp.ndarray, params: jnp.ndarray):\n",
    "    assert params.shape == (6,)\n",
    "    variance, length_scale, mixture_scale = params[0], params[1], params[3]\n",
    "    return variance * (\n",
    "        1\n",
    "        + 0.5\n",
    "        * (x.reshape((-1, 1)) - z.reshape((1, -1))) ** 2\n",
    "        / (mixture_scale * length_scale**2)\n",
    "    ) ** (-mixture_scale)\n",
    "\n",
    "\n",
    "ex_x = jnp.linspace(0, 1, num=3)\n",
    "ex_params = jnp.array([[1, 1, 0.2, 2], [1, 1, 5, 0.5]])\n",
    "rational_quadratic(ex_x, ex_x, ex_params)"
   ]
  },
  {
   "cell_type": "code",
   "execution_count": 31,
   "id": "fb9f014bc821a8a4",
   "metadata": {
    "ExecuteTime": {
     "end_time": "2025-01-10T11:25:02.709790Z",
     "start_time": "2025-01-10T11:25:02.669231Z"
    }
   },
   "outputs": [
    {
     "data": {
      "text/plain": [
       "Array([[[1.        , 0.13533528, 1.        ],\n",
       "        [0.13533528, 1.        , 0.13533528],\n",
       "        [1.        , 0.13533528, 1.        ]],\n",
       "\n",
       "       [[1.        , 0.8261466 , 0.50108325],\n",
       "        [0.8261466 , 1.        , 0.8261466 ],\n",
       "        [0.50108325, 0.8261466 , 1.        ]]], dtype=float32)"
      ]
     },
     "execution_count": 31,
     "metadata": {},
     "output_type": "execute_result"
    }
   ],
   "source": [
    "@partial(jnp.vectorize, signature=\"(x),(z),(4)->(x,z)\")\n",
    "@jax.jit\n",
    "def periodic_kernel(x: jnp.ndarray, z: jnp.ndarray, params: jnp.ndarray):\n",
    "    variance, length_scale, period = params[0], params[1], params[2]\n",
    "    return variance * jnp.exp(\n",
    "        -2\n",
    "        * jnp.sin(jnp.pi * (x.reshape((-1, 1)) - z.reshape((1, -1))) / period) ** 2\n",
    "        / length_scale**2\n",
    "    )\n",
    "\n",
    "\n",
    "periodic_kernel(ex_x, ex_x, ex_params)"
   ]
  },
  {
   "cell_type": "code",
   "execution_count": 32,
   "id": "7576f9ec20457289",
   "metadata": {
    "ExecuteTime": {
     "end_time": "2025-01-10T11:25:50.090056Z",
     "start_time": "2025-01-10T11:25:50.038894Z"
    }
   },
   "outputs": [
    {
     "data": {
      "text/plain": [
       "Array([[[3.       , 1.9131131, 2.3333335],\n",
       "        [1.9131131, 3.       , 1.9131131],\n",
       "        [2.3333335, 1.9131131, 3.       ]],\n",
       "\n",
       "       [[1.5      , 1.3109951, 0.9455277],\n",
       "        [1.3109951, 1.5      , 1.3109951],\n",
       "        [0.9455277, 1.3109951, 1.5      ]]], dtype=float32)"
      ]
     },
     "execution_count": 32,
     "metadata": {},
     "output_type": "execute_result"
    }
   ],
   "source": [
    "@partial(jnp.vectorize, signature=\"(x),(z),(6)->(x,z)\")\n",
    "@jax.jit\n",
    "def total_kernel(x: jnp.ndarray, z: jnp.ndarray, params: jnp.ndarray):\n",
    "    return rational_quadratic(x, z, params) + periodic_kernel(x, z, params)\n",
    "\n",
    "\n",
    "total_kernel(ex_x, ex_x, ex_params)"
   ]
  },
  {
   "cell_type": "code",
   "execution_count": 59,
   "id": "45c04d1676bb549b",
   "metadata": {
    "ExecuteTime": {
     "end_time": "2025-01-10T12:00:25.990785Z",
     "start_time": "2025-01-10T12:00:25.912735Z"
    }
   },
   "outputs": [
    {
     "data": {
      "text/plain": [
       "Array([[1.7080734, 0.2919265, 1.7080735],\n",
       "       [0.2919265, 2.2705736, 1.5419264],\n",
       "       [1.7080735, 1.5419264, 4.7080736]], dtype=float32)"
      ]
     },
     "execution_count": 59,
     "metadata": {},
     "output_type": "execute_result"
    }
   ],
   "source": [
    "@partial(jnp.vectorize, signature=\"(x),(z),(2)->(x,z)\")\n",
    "@jax.jit\n",
    "def wavy_kernel(x: jnp.ndarray, y: jnp.ndarray, params: jnp.ndarray):\n",
    "    a, b = params[0], params[1]\n",
    "    return (1 + x.reshape((-1, 1)) @ y.reshape((1, -1))) ** 2 + a * (\n",
    "        jnp.sin(2 * jnp.pi * x.flatten() + b).reshape((-1, 1))\n",
    "        * jnp.sin(2 * jnp.pi * y.flatten() + b).reshape((1, -1))\n",
    "    )\n",
    "\n",
    "\n",
    "wavy_kernel(ex_x, ex_x, jnp.array([1, 1]))"
   ]
  },
  {
   "cell_type": "code",
   "execution_count": 179,
   "id": "9b225cb4b297677a",
   "metadata": {
    "ExecuteTime": {
     "end_time": "2025-01-10T13:13:56.658324Z",
     "start_time": "2025-01-10T13:13:56.640793Z"
    }
   },
   "outputs": [],
   "source": [
    "@jax.jit\n",
    "def parameter_prior_wavy(noise_params: jnp.ndarray):\n",
    "    noise_y, a, b = noise_params[0], noise_params[1], noise_params[2]\n",
    "    return (\n",
    "        jstats.expon.logpdf(noise_y)\n",
    "        + jstats.expon.logpdf(a)\n",
    "        + jstats.uniform.logpdf(b, loc=0, scale=2 * jnp.pi)\n",
    "    )"
   ]
  },
  {
   "cell_type": "code",
   "execution_count": 180,
   "id": "a131df6707c74468",
   "metadata": {
    "ExecuteTime": {
     "end_time": "2025-01-10T13:14:03.639870Z",
     "start_time": "2025-01-10T13:14:03.634406Z"
    }
   },
   "outputs": [],
   "source": [
    "kernel = wavy_kernel\n",
    "num_kernel_params = 2\n",
    "ex_params = jnp.array([1, 1])\n",
    "parameter_prior = parameter_prior_wavy"
   ]
  },
  {
   "cell_type": "code",
   "execution_count": 64,
   "id": "33c2b10c17fb1008",
   "metadata": {
    "ExecuteTime": {
     "end_time": "2025-01-10T12:01:48.132448Z",
     "start_time": "2025-01-10T12:01:48.038741Z"
    }
   },
   "outputs": [
    {
     "data": {
      "text/plain": [
       "(Array([0.02836096, 0.4943103 ], dtype=float32),\n",
       " Array([[ 0.09142661, -0.00116915],\n",
       "        [-0.0011692 ,  0.09450984]], dtype=float32))"
      ]
     },
     "execution_count": 64,
     "metadata": {},
     "output_type": "execute_result"
    }
   ],
   "source": [
    "@partial(jnp.vectorize, signature=f\"(t),(t),(s),(),({num_kernel_params})->(s),(s,s)\")\n",
    "@jax.jit\n",
    "def posterior_conditional(\n",
    "    x_train: jnp.ndarray,\n",
    "    y_train: jnp.ndarray,\n",
    "    x_star: jnp.ndarray,\n",
    "    noise_y: float,\n",
    "    params: jnp.ndarray,\n",
    "):\n",
    "    inverse_cov = jnp.linalg.inv(\n",
    "        kernel(x_train, x_train, params) + noise_y * jnp.identity(len(x_train))\n",
    "    )\n",
    "    kernel_star = kernel(x_train, x_star, params)\n",
    "    mu_star = kernel_star.T @ inverse_cov @ y_train\n",
    "    cov_star = (\n",
    "        kernel(x_star, x_star, params) - kernel_star.T @ inverse_cov @ kernel_star\n",
    "    )\n",
    "    return mu_star, cov_star\n",
    "\n",
    "\n",
    "posterior_conditional(ex_x, ex_x, ex_x[:2], 0.1, ex_params)"
   ]
  },
  {
   "cell_type": "code",
   "execution_count": 181,
   "id": "3925b97c5a4e0c4a",
   "metadata": {
    "ExecuteTime": {
     "end_time": "2025-01-10T13:14:31.486853Z",
     "start_time": "2025-01-10T13:14:31.310772Z"
    }
   },
   "outputs": [
    {
     "data": {
      "text/plain": [
       "Array(-6.774468, dtype=float32)"
      ]
     },
     "execution_count": 181,
     "metadata": {},
     "output_type": "execute_result"
    }
   ],
   "source": [
    "@partial(jax.jit, static_argnames=(\"use_test_set\",))\n",
    "def log_posterior_prob(\n",
    "    noise_params: jnp.ndarray, dataset: dataset_t, use_test_set: bool = False\n",
    "):\n",
    "    if use_test_set:\n",
    "        x_train, y_train, _x_valid, _y_valid, x_star, y_star = dataset\n",
    "    else:\n",
    "        x_train, y_train, x_star, y_star, _x_test, _y_test = dataset\n",
    "\n",
    "    noise_y, params = noise_params[0], noise_params[1:]\n",
    "    mu_star, cov_star = posterior_conditional(x_train, y_train, x_star, noise_y, params)\n",
    "    cov = cov_star + noise_y * jnp.identity(len(mu_star))\n",
    "    logpdf = jstats.multivariate_normal.logpdf(y_star, mean=mu_star, cov=cov)\n",
    "    prior = parameter_prior(noise_params)\n",
    "    return jnp.nan_to_num(logpdf + prior, nan=-jnp.inf)\n",
    "\n",
    "\n",
    "ex_full_params = jnp.concat((jnp.array([0.1]), ex_params), axis=0)\n",
    "log_posterior_prob(ex_full_params, generate_dataset(30))"
   ]
  },
  {
   "cell_type": "code",
   "execution_count": 154,
   "id": "7813e314560aae36",
   "metadata": {
    "ExecuteTime": {
     "end_time": "2025-01-10T12:53:15.898891Z",
     "start_time": "2025-01-10T12:53:15.894072Z"
    }
   },
   "outputs": [],
   "source": [
    "def grid_search(\n",
    "    search_ranges: tuple[tuple[float, float], ...], grid_size: int, dataset: dataset_t\n",
    "):\n",
    "    opt_params = opt.brute(\n",
    "        lambda p: -log_posterior_prob(p, dataset),\n",
    "        search_ranges,\n",
    "        Ns=grid_size,\n",
    "        finish=None,\n",
    "    )\n",
    "    return opt_params"
   ]
  },
  {
   "cell_type": "code",
   "execution_count": 156,
   "id": "5c101078b27d1459",
   "metadata": {
    "ExecuteTime": {
     "end_time": "2025-01-10T12:53:33.386885Z",
     "start_time": "2025-01-10T12:53:33.284494Z"
    }
   },
   "outputs": [],
   "source": [
    "ex_dataset = generate_dataset()"
   ]
  },
  {
   "cell_type": "code",
   "execution_count": 182,
   "id": "5c0babb3eb73a381",
   "metadata": {
    "ExecuteTime": {
     "end_time": "2025-01-10T13:14:56.286693Z",
     "start_time": "2025-01-10T13:14:53.772271Z"
    }
   },
   "outputs": [
    {
     "data": {
      "text/plain": [
       "array([0.21387755, 0.08163265, 0.64114136])"
      ]
     },
     "execution_count": 182,
     "metadata": {},
     "output_type": "execute_result"
    }
   ],
   "source": [
    "found_params = grid_search(\n",
    "    search_ranges=((1.0e-2, 10), (0, 2), (0, 2 * jnp.pi)),\n",
    "    grid_size=50,\n",
    "    dataset=ex_dataset,\n",
    ")\n",
    "found_params"
   ]
  },
  {
   "cell_type": "code",
   "execution_count": 183,
   "id": "f1f64f6634b2edbf",
   "metadata": {
    "ExecuteTime": {
     "end_time": "2025-01-10T13:15:00.289485Z",
     "start_time": "2025-01-10T13:15:00.175208Z"
    }
   },
   "outputs": [
    {
     "data": {
      "text/plain": [
       "Array(-8.646334, dtype=float32)"
      ]
     },
     "execution_count": 183,
     "metadata": {},
     "output_type": "execute_result"
    }
   ],
   "source": [
    "log_posterior_prob(found_params, ex_dataset, use_test_set=True)"
   ]
  },
  {
   "cell_type": "code",
   "execution_count": 184,
   "id": "9997f46edf46226c",
   "metadata": {
    "ExecuteTime": {
     "end_time": "2025-01-10T13:15:09.096236Z",
     "start_time": "2025-01-10T13:15:09.090896Z"
    }
   },
   "outputs": [],
   "source": [
    "class KernelProbDensity(dist.Distribution):\n",
    "    support = dist.constraints.interval(-3, 3)\n",
    "    arg_constraints = {\"start\": support}  # noqa: RUF012\n",
    "\n",
    "    def __init__(self, dataset: dataset_t, start: jnp.ndarray = None):\n",
    "        if start is None:\n",
    "            start = ex_full_params\n",
    "        assert start.shape == (num_kernel_params + 1,), start.shape\n",
    "        self.start = start\n",
    "        self.dataset = dataset\n",
    "        super().__init__(event_shape=(num_kernel_params + 1,))\n",
    "\n",
    "    def sample(self, _key, sample_shape=()):\n",
    "        return jnp.full(sample_shape, self.start)\n",
    "\n",
    "    def log_prob(self, value):\n",
    "        assert value.shape == (\n",
    "            num_kernel_params + 1,\n",
    "        ), f\"{value.shape=} {(num_kernel_params + 1)=}\"\n",
    "        return log_posterior_prob(value, self.dataset)"
   ]
  },
  {
   "cell_type": "code",
   "execution_count": 185,
   "id": "86ab59f9a2d9bdd2",
   "metadata": {
    "ExecuteTime": {
     "end_time": "2025-01-10T13:15:11.342592Z",
     "start_time": "2025-01-10T13:15:11.339181Z"
    }
   },
   "outputs": [],
   "source": [
    "def mcmc_kernel_model(dataset: dataset_t):\n",
    "    return numpyro.sample(\"noise_params\", KernelProbDensity(dataset))"
   ]
  },
  {
   "cell_type": "code",
   "id": "a83fe5c1f68ddccb",
   "metadata": {
    "ExecuteTime": {
     "end_time": "2025-01-10T13:19:58.144269Z",
     "start_time": "2025-01-10T13:19:58.124549Z"
    }
   },
   "source": [
    "warnings.filterwarnings(\"ignore\", message=\"There are not enough devices to run parallel chains\")"
   ],
   "outputs": [],
   "execution_count": 201
  },
  {
   "cell_type": "code",
   "id": "12b9790a4f594328",
   "metadata": {
    "ExecuteTime": {
     "end_time": "2025-01-10T13:20:12.139299Z",
     "start_time": "2025-01-10T13:19:58.977647Z"
    }
   },
   "source": [
    "nuts_kernel = numpyro.infer.NUTS(mcmc_kernel_model)\n",
    "ex_mcmc = numpyro.infer.MCMC(\n",
    "    nuts_kernel, num_samples=3_000, num_chains=8, num_warmup=2000, progress_bar=True\n",
    ")\n",
    "ex_mcmc.run(jax.random.key(1), ex_dataset)"
   ],
   "outputs": [
    {
     "name": "stderr",
     "output_type": "stream",
     "text": [
      "sample: 100%|██████████| 5000/5000 [00:01<00:00, 2745.19it/s, 1 steps of size 1.64e-01. acc. prob=0.72] \n",
      "sample: 100%|██████████| 5000/5000 [00:01<00:00, 4628.20it/s, 3 steps of size 6.82e-02. acc. prob=0.83] \n",
      "sample: 100%|██████████| 5000/5000 [00:00<00:00, 5833.51it/s, 1 steps of size 2.58e-01. acc. prob=0.64] \n",
      "sample: 100%|██████████| 5000/5000 [00:01<00:00, 4882.06it/s, 1 steps of size 1.21e-01. acc. prob=0.80] \n",
      "sample: 100%|██████████| 5000/5000 [00:01<00:00, 3958.20it/s, 21 steps of size 6.27e-02. acc. prob=0.87]\n",
      "sample: 100%|██████████| 5000/5000 [00:01<00:00, 3073.60it/s, 63 steps of size 3.26e-02. acc. prob=0.89]\n",
      "sample: 100%|██████████| 5000/5000 [00:01<00:00, 4049.20it/s, 1 steps of size 8.65e-02. acc. prob=0.83]  \n",
      "sample: 100%|██████████| 5000/5000 [00:01<00:00, 3949.83it/s, 9 steps of size 7.11e-02. acc. prob=0.85]  \n"
     ]
    }
   ],
   "execution_count": 202
  },
  {
   "cell_type": "code",
   "execution_count": 196,
   "id": "372e89ccf6f1b8bf",
   "metadata": {
    "ExecuteTime": {
     "end_time": "2025-01-10T13:17:26.878408Z",
     "start_time": "2025-01-10T13:17:25.825117Z"
    }
   },
   "outputs": [
    {
     "data": {
      "text/plain": [
       "<Axes: ylabel='Count'>"
      ]
     },
     "execution_count": 196,
     "metadata": {},
     "output_type": "execute_result"
    },
    {
     "data": {
      "image/png": "[encoded data removed]",
      "text/plain": [
       "<Figure size 640x480 with 1 Axes>"
      ]
     },
     "metadata": {},
     "output_type": "display_data"
    }
   ],
   "source": [
    "samples: jnp.ndarray = ex_mcmc.get_samples()[\"noise_params\"]\n",
    "sns.histplot(samples, binwidth=0.005)"
   ]
  },
  {
   "cell_type": "code",
   "execution_count": 195,
   "id": "6585813d98babcf7",
   "metadata": {
    "ExecuteTime": {
     "end_time": "2025-01-10T13:17:24.002963Z",
     "start_time": "2025-01-10T13:17:23.909157Z"
    }
   },
   "outputs": [
    {
     "data": {
      "text/html": [
       "<div>\n",
       "<style scoped>\n",
       "    .dataframe tbody tr th:only-of-type {\n",
       "        vertical-align: middle;\n",
       "    }\n",
       "\n",
       "    .dataframe tbody tr th {\n",
       "        vertical-align: top;\n",
       "    }\n",
       "\n",
       "    .dataframe thead th {\n",
       "        text-align: right;\n",
       "    }\n",
       "</style>\n",
       "<table border=\"1\" class=\"dataframe\">\n",
       "  <thead>\n",
       "    <tr style=\"text-align: right;\">\n",
       "      <th></th>\n",
       "      <th>mean</th>\n",
       "      <th>sd</th>\n",
       "      <th>hdi_3%</th>\n",
       "      <th>hdi_97%</th>\n",
       "      <th>mcse_mean</th>\n",
       "      <th>mcse_sd</th>\n",
       "      <th>ess_bulk</th>\n",
       "      <th>ess_tail</th>\n",
       "      <th>r_hat</th>\n",
       "    </tr>\n",
       "  </thead>\n",
       "  <tbody>\n",
       "    <tr>\n",
       "      <th>y noise</th>\n",
       "      <td>0.235</td>\n",
       "      <td>0.185</td>\n",
       "      <td>0.048</td>\n",
       "      <td>0.529</td>\n",
       "      <td>0.017</td>\n",
       "      <td>0.014</td>\n",
       "      <td>374.0</td>\n",
       "      <td>102.0</td>\n",
       "      <td>1.02</td>\n",
       "    </tr>\n",
       "    <tr>\n",
       "      <th>a</th>\n",
       "      <td>0.828</td>\n",
       "      <td>0.713</td>\n",
       "      <td>0.000</td>\n",
       "      <td>2.254</td>\n",
       "      <td>0.021</td>\n",
       "      <td>0.016</td>\n",
       "      <td>1315.0</td>\n",
       "      <td>1164.0</td>\n",
       "      <td>1.00</td>\n",
       "    </tr>\n",
       "    <tr>\n",
       "      <th>b</th>\n",
       "      <td>1.232</td>\n",
       "      <td>0.861</td>\n",
       "      <td>0.001</td>\n",
       "      <td>2.768</td>\n",
       "      <td>0.034</td>\n",
       "      <td>0.026</td>\n",
       "      <td>689.0</td>\n",
       "      <td>669.0</td>\n",
       "      <td>1.01</td>\n",
       "    </tr>\n",
       "  </tbody>\n",
       "</table>\n",
       "</div>"
      ],
      "text/plain": [
       "          mean     sd  hdi_3%  hdi_97%  mcse_mean  mcse_sd  ess_bulk  \\\n",
       "y noise  0.235  0.185   0.048    0.529      0.017    0.014     374.0   \n",
       "a        0.828  0.713   0.000    2.254      0.021    0.016    1315.0   \n",
       "b        1.232  0.861   0.001    2.768      0.034    0.026     689.0   \n",
       "\n",
       "         ess_tail  r_hat  \n",
       "y noise     102.0   1.02  \n",
       "a          1164.0   1.00  \n",
       "b           669.0   1.01  "
      ]
     },
     "execution_count": 195,
     "metadata": {},
     "output_type": "execute_result"
    }
   ],
   "source": [
    "arv = arviz.from_dict(ex_mcmc.get_samples(group_by_chain=True))\n",
    "summ = arviz.summary(arv)\n",
    "summ.index = [\"y noise\", \"a\", \"b\"]\n",
    "summ"
   ]
  },
  {
   "cell_type": "code",
   "execution_count": 197,
   "id": "1a553aa85f24a315",
   "metadata": {
    "ExecuteTime": {
     "end_time": "2025-01-10T13:17:44.538694Z",
     "start_time": "2025-01-10T13:17:44.387665Z"
    }
   },
   "outputs": [
    {
     "data": {
      "image/png": "[encoded data removed]",
      "text/plain": [
       "<Figure size 2208x552 with 3 Axes>"
      ]
     },
     "metadata": {},
     "output_type": "display_data"
    }
   ],
   "source": [
    "arviz.plot_posterior(arv)\n",
    "plt.show()"
   ]
  },
  {
   "cell_type": "code",
   "execution_count": 198,
   "id": "a34499885f116c98",
   "metadata": {
    "ExecuteTime": {
     "end_time": "2025-01-10T13:18:10.211954Z",
     "start_time": "2025-01-10T13:18:10.162592Z"
    }
   },
   "outputs": [
    {
     "data": {
      "text/plain": [
       "(500, 3)"
      ]
     },
     "execution_count": 198,
     "metadata": {},
     "output_type": "execute_result"
    }
   ],
   "source": [
    "ex_strided_post_samples = ex_mcmc.get_samples(group_by_chain=True)[\n",
    "    \"noise_params\"\n",
    "].reshape((-1, 3))[::8 * 6]\n",
    "ex_strided_post_samples.shape"
   ]
  },
  {
   "cell_type": "code",
   "execution_count": 199,
   "id": "6c77f49f9f9d7237",
   "metadata": {
    "ExecuteTime": {
     "end_time": "2025-01-10T13:18:13.872985Z",
     "start_time": "2025-01-10T13:18:13.703012Z"
    }
   },
   "outputs": [
    {
     "data": {
      "text/plain": [
       "Array(-11.021283, dtype=float32)"
      ]
     },
     "execution_count": 199,
     "metadata": {},
     "output_type": "execute_result"
    }
   ],
   "source": [
    "def approx_posterior(posterior_samples: jnp.ndarray, dataset: dataset_t):\n",
    "    def calc_likelihood(_, post_sample: jnp.ndarray):\n",
    "        return (), log_posterior_prob(post_sample, dataset, use_test_set=True)\n",
    "\n",
    "    return jax.lax.scan(calc_likelihood, (), posterior_samples)[1]\n",
    "\n",
    "\n",
    "approx_posterior(ex_strided_post_samples, generate_dataset()).mean()"
   ]
  },
  {
   "cell_type": "code",
   "id": "6531400a0010d3fc",
   "metadata": {
    "ExecuteTime": {
     "end_time": "2025-01-10T13:20:21.238020Z",
     "start_time": "2025-01-10T13:20:21.225438Z"
    }
   },
   "source": [
    "def repeat_estimate(key: jnp.ndarray = None, n_times: int = 20, n_obs: int = 30):\n",
    "    if key is None:\n",
    "        key = jax.random.key(42)\n",
    "\n",
    "    map_likelihoods = []\n",
    "    mcmc_likelihoods = []\n",
    "\n",
    "    for iter_key in tqdm(jax.random.split(key, n_times), desc=\"Repeated estimation\"):\n",
    "        data_key, mcmc_key = jax.random.split(iter_key)\n",
    "        dataset = generate_dataset(number_of_obs=n_obs, key=data_key)\n",
    "        map_params = grid_search(\n",
    "            search_ranges=((1.0e-2, 10), (-1, 1), (0, 2 * jnp.pi)),\n",
    "            grid_size=75,\n",
    "            dataset=ex_dataset,\n",
    "        )\n",
    "        map_likelihoods.append(\n",
    "            log_posterior_prob(map_params, dataset, use_test_set=True)\n",
    "        )\n",
    "\n",
    "        mcmc = numpyro.infer.MCMC(\n",
    "            nuts_kernel,\n",
    "            num_samples=3_000,\n",
    "            num_chains=8,\n",
    "            num_warmup=2_000,\n",
    "            progress_bar=False,\n",
    "        )\n",
    "        mcmc.run(mcmc_key, dataset)\n",
    "        strided_samples = mcmc.get_samples(group_by_chain=True)[\"noise_params\"].reshape(\n",
    "            (-1, 3)\n",
    "        )[::8 * 6]\n",
    "        mcmc_likelihoods.append(\n",
    "            approx_posterior(strided_samples, generate_dataset()).mean()\n",
    "        )\n",
    "\n",
    "    return jnp.array(map_likelihoods), jnp.array(mcmc_likelihoods)"
   ],
   "outputs": [],
   "execution_count": 203
  },
  {
   "cell_type": "code",
   "id": "a17fee57f04aa4f0",
   "metadata": {
    "ExecuteTime": {
     "end_time": "2025-01-10T13:29:01.596713Z",
     "start_time": "2025-01-10T13:20:28.782709Z"
    }
   },
   "source": [
    "map_ls, mcmc_ls = repeat_estimate()"
   ],
   "outputs": [
    {
     "data": {
      "text/plain": [
       "Repeated estimation:   0%|          | 0/20 [00:00<?, ?it/s]"
      ],
      "application/vnd.jupyter.widget-view+json": {
       "version_major": 2,
       "version_minor": 0,
       "model_id": "312af09b1441459681d29914bf3261dc"
      }
     },
     "metadata": {},
     "output_type": "display_data"
    }
   ],
   "execution_count": 204
  },
  {
   "cell_type": "code",
   "id": "f552faaaa7705a6b",
   "metadata": {
    "ExecuteTime": {
     "end_time": "2025-01-10T13:29:47.851488Z",
     "start_time": "2025-01-10T13:29:47.846606Z"
    }
   },
   "source": "map_ls, map_ls.mean()",
   "outputs": [
    {
     "data": {
      "text/plain": [
       "(Array([-8.793975 , -8.813328 , -8.816643 , -8.683634 , -8.617303 ,\n",
       "        -8.733367 , -8.924727 , -8.756771 , -8.803385 , -8.78731  ,\n",
       "        -9.004909 , -8.718636 , -8.759394 , -8.77553  , -8.814344 ,\n",
       "        -8.888703 , -9.006361 , -8.712639 , -8.7121935, -8.876108 ],      dtype=float32),\n",
       " Array(-8.799964, dtype=float32))"
      ]
     },
     "execution_count": 208,
     "metadata": {},
     "output_type": "execute_result"
    }
   ],
   "execution_count": 208
  },
  {
   "metadata": {
    "ExecuteTime": {
     "end_time": "2025-01-10T13:29:52.775680Z",
     "start_time": "2025-01-10T13:29:52.772943Z"
    }
   },
   "cell_type": "code",
   "source": "mcmc_ls, mcmc_ls.mean()",
   "id": "f8a3e63f90f84810",
   "outputs": [
    {
     "data": {
      "text/plain": [
       "(Array([-10.9755945, -10.901855 , -10.977362 , -10.950463 , -10.978203 ,\n",
       "        -11.0044   , -10.998256 , -11.013045 , -10.938569 , -11.113309 ,\n",
       "        -10.900817 , -11.172851 , -10.939088 , -10.956308 , -11.071995 ,\n",
       "        -10.890988 , -10.695964 , -11.04382  , -10.979169 , -10.899643 ],      dtype=float32),\n",
       " Array(-10.970085, dtype=float32))"
      ]
     },
     "execution_count": 209,
     "metadata": {},
     "output_type": "execute_result"
    }
   ],
   "execution_count": 209
  },
  {
   "metadata": {},
   "cell_type": "code",
   "outputs": [],
   "execution_count": null,
   "source": "",
   "id": "27ae35ab735eb5c5"
  }
 ],
 "metadata": {
  "kernelspec": {
   "display_name": "Python 3",
   "language": "python",
   "name": "python3"
  },
  "language_info": {
   "codemirror_mode": {
    "name": "ipython",
    "version": 2
   },
   "file_extension": ".py",
   "mimetype": "text/x-python",
   "name": "python",
   "nbconvert_exporter": "python",
   "pygments_lexer": "ipython2",
   "version": "2.7.6"
  }
 },
 "nbformat": 4,
 "nbformat_minor": 5
}
