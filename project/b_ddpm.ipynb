{
 "cells": [
  {
   "cell_type": "code",
   "metadata": {
    "id": "dD0C2vndcuz6",
    "ExecuteTime": {
     "end_time": "2025-01-09T10:58:31.817755Z",
     "start_time": "2025-01-09T10:58:30.453254Z"
    }
   },
   "source": [
    "from __future__ import annotations\n",
    "\n",
    "from pathlib import Path\n",
    "\n",
    "import torch\n",
    "from torchvision import datasets, transforms\n",
    "import matplotlib.pyplot as plt\n",
    "\n",
    "\n",
    "from typing import TYPE_CHECKING\n",
    "\n",
    "if TYPE_CHECKING:\n",
    "    import ddpm_model"
   ],
   "outputs": [],
   "execution_count": 1
  },
  {
   "cell_type": "code",
   "metadata": {
    "ExecuteTime": {
     "end_time": "2025-01-09T10:58:31.823201Z",
     "start_time": "2025-01-09T10:58:31.820784Z"
    }
   },
   "source": [
    "try:\n",
    "    from google.colab import drive\n",
    "    import os\n",
    "\n",
    "    drive.mount(\"/content/drive\")\n",
    "    os.chdir(\"/content/drive/MyDrive/Colab Notebooks\")\n",
    "except ImportError:\n",
    "    print(\"Running locally.\")\n",
    "\n",
    "assert Path(\"ddpm_models\").exists(), \"Couldn't find model folder\""
   ],
   "outputs": [
    {
     "name": "stdout",
     "output_type": "stream",
     "text": [
      "Running locally.\n"
     ]
    }
   ],
   "execution_count": 2
  },
  {
   "cell_type": "code",
   "metadata": {
    "id": "gqPZ6PkScuz_",
    "ExecuteTime": {
     "end_time": "2025-01-09T10:58:31.884645Z",
     "start_time": "2025-01-09T10:58:31.882812Z"
    }
   },
   "source": [
    "# Parameters\n",
    "T = 1000\n",
    "batch_size = 256"
   ],
   "outputs": [],
   "execution_count": 3
  },
  {
   "cell_type": "code",
   "metadata": {
    "id": "tBntJ5JFcuz_",
    "ExecuteTime": {
     "end_time": "2025-01-09T10:58:31.902093Z",
     "start_time": "2025-01-09T10:58:31.888731Z"
    }
   },
   "source": [
    "# Rather than treating MNIST images as discrete objects, as done in Ho et al 2020,\n",
    "# we here treat them as continuous input data, by dequantizing the pixel values (adding noise to the input data)\n",
    "# Also note that we map the 0..255 pixel values to [-1, 1], and that we process the 28x28 pixel values as a flattened 784 tensor.\n",
    "transform = transforms.Compose(\n",
    "    [\n",
    "        transforms.ToTensor(),\n",
    "        transforms.Lambda(\n",
    "            lambda x: x + torch.rand(x.shape) / 255\n",
    "        ),  # Dequantize pixel values\n",
    "        transforms.Lambda(lambda x: (x - 0.5) * 2.0),  # Map from [0,1] -> [-1, -1]\n",
    "        transforms.Lambda(lambda x: x.flatten()),\n",
    "    ]\n",
    ")\n",
    "\n",
    "# Download and transform train dataset\n",
    "dataloader_train = torch.utils.data.DataLoader(\n",
    "    datasets.MNIST(\"./mnist_data\", download=True, train=True, transform=transform),\n",
    "    batch_size=batch_size,\n",
    "    shuffle=True,\n",
    ")"
   ],
   "outputs": [],
   "execution_count": 4
  },
  {
   "cell_type": "code",
   "metadata": {
    "colab": {
     "base_uri": "https://localhost:8080/"
    },
    "id": "aYJ6BwrGcuz_",
    "outputId": "c5d81afe-e1b8-4fac-8762-efaa7d0da01c",
    "ExecuteTime": {
     "end_time": "2025-01-09T10:58:31.920407Z",
     "start_time": "2025-01-09T10:58:31.906495Z"
    }
   },
   "source": [
    "# Select device\n",
    "if torch.cuda.is_available():\n",
    "    device = \"cuda:0\"\n",
    "elif torch.mps.is_available():\n",
    "    device = \"mps:0\"\n",
    "else:\n",
    "    device = \"cpu\"\n",
    "\n",
    "print(f\"Running on {device}\")"
   ],
   "outputs": [
    {
     "name": "stdout",
     "output_type": "stream",
     "text": [
      "Running on mps:0\n"
     ]
    }
   ],
   "execution_count": 5
  },
  {
   "cell_type": "code",
   "metadata": {
    "ExecuteTime": {
     "end_time": "2025-01-09T10:58:31.941398Z",
     "start_time": "2025-01-09T10:58:31.924923Z"
    }
   },
   "source": [
    "model: ddpm_model.DDPM = torch.load(\n",
    "    \"ddpm_models/variance_importance-batch.pt\", weights_only=False, map_location=device\n",
    ")\n",
    "model"
   ],
   "outputs": [
    {
     "data": {
      "text/plain": [
       "DDPM(\n",
       "  (_network): ScoreNet(\n",
       "    (embed): Sequential(\n",
       "      (0): GaussianFourierProjection()\n",
       "      (1): Linear(in_features=256, out_features=256, bias=True)\n",
       "    )\n",
       "    (conv1): Conv2d(1, 32, kernel_size=(3, 3), stride=(1, 1), bias=False)\n",
       "    (dense1): Dense(\n",
       "      (dense): Linear(in_features=256, out_features=32, bias=True)\n",
       "    )\n",
       "    (gnorm1): GroupNorm(4, 32, eps=1e-05, affine=True)\n",
       "    (conv2): Conv2d(32, 64, kernel_size=(3, 3), stride=(2, 2), bias=False)\n",
       "    (dense2): Dense(\n",
       "      (dense): Linear(in_features=256, out_features=64, bias=True)\n",
       "    )\n",
       "    (gnorm2): GroupNorm(32, 64, eps=1e-05, affine=True)\n",
       "    (conv3): Conv2d(64, 128, kernel_size=(3, 3), stride=(2, 2), bias=False)\n",
       "    (dense3): Dense(\n",
       "      (dense): Linear(in_features=256, out_features=128, bias=True)\n",
       "    )\n",
       "    (gnorm3): GroupNorm(32, 128, eps=1e-05, affine=True)\n",
       "    (conv4): Conv2d(128, 256, kernel_size=(3, 3), stride=(2, 2), bias=False)\n",
       "    (dense4): Dense(\n",
       "      (dense): Linear(in_features=256, out_features=256, bias=True)\n",
       "    )\n",
       "    (gnorm4): GroupNorm(32, 256, eps=1e-05, affine=True)\n",
       "    (tconv4): ConvTranspose2d(256, 128, kernel_size=(3, 3), stride=(2, 2), bias=False)\n",
       "    (dense5): Dense(\n",
       "      (dense): Linear(in_features=256, out_features=128, bias=True)\n",
       "    )\n",
       "    (tgnorm4): GroupNorm(32, 128, eps=1e-05, affine=True)\n",
       "    (tconv3): ConvTranspose2d(256, 64, kernel_size=(3, 3), stride=(2, 2), output_padding=(1, 1), bias=False)\n",
       "    (dense6): Dense(\n",
       "      (dense): Linear(in_features=256, out_features=64, bias=True)\n",
       "    )\n",
       "    (tgnorm3): GroupNorm(32, 64, eps=1e-05, affine=True)\n",
       "    (tconv2): ConvTranspose2d(128, 32, kernel_size=(3, 3), stride=(2, 2), output_padding=(1, 1), bias=False)\n",
       "    (dense7): Dense(\n",
       "      (dense): Linear(in_features=256, out_features=32, bias=True)\n",
       "    )\n",
       "    (tgnorm2): GroupNorm(32, 32, eps=1e-05, affine=True)\n",
       "    (tconv1): ConvTranspose2d(64, 1, kernel_size=(3, 3), stride=(1, 1))\n",
       "    (act): SiLU()\n",
       "  )\n",
       ")"
      ]
     },
     "execution_count": 6,
     "metadata": {},
     "output_type": "execute_result"
    }
   ],
   "execution_count": 6
  },
  {
   "cell_type": "code",
   "metadata": {
    "ExecuteTime": {
     "end_time": "2025-01-09T10:58:37.576978Z",
     "start_time": "2025-01-09T10:58:32.003291Z"
    }
   },
   "source": [
    "torch.manual_seed(1)\n",
    "ex_img = model.sample((2, 28 * 28))\n",
    "plt.imshow(ex_img[0].reshape(28, 28).cpu(), vmin=-1, vmax=1)"
   ],
   "outputs": [
    {
     "data": {
      "text/plain": [
       "<matplotlib.image.AxesImage at 0x146c98190>"
      ]
     },
     "execution_count": 7,
     "metadata": {},
     "output_type": "execute_result"
    },
    {
     "data": {
      "text/plain": [
       "<Figure size 640x480 with 1 Axes>"
      ],
      "image/png": "[encoded data removed]"
     },
     "metadata": {},
     "output_type": "display_data"
    }
   ],
   "execution_count": 7
  }
 ],
 "metadata": {
  "accelerator": "GPU",
  "colab": {
   "gpuType": "T4",
   "provenance": []
  },
  "kernelspec": {
   "display_name": "Python 3 (ipykernel)",
   "language": "python",
   "name": "python3"
  },
  "language_info": {
   "codemirror_mode": {
    "name": "ipython",
    "version": 3
   },
   "file_extension": ".py",
   "mimetype": "text/x-python",
   "name": "python",
   "nbconvert_exporter": "python",
   "pygments_lexer": "ipython3",
   "version": "3.12.4"
  },
  "widgets": {
   "application/vnd.jupyter.widget-state+json": {
    "125e1ddec1fa49a18bd11bd9edc05f57": {
     "model_module": "@jupyter-widgets/controls",
     "model_module_version": "1.5.0",
     "model_name": "ProgressStyleModel",
     "state": {
      "_model_module": "@jupyter-widgets/controls",
      "_model_module_version": "1.5.0",
      "_model_name": "ProgressStyleModel",
      "_view_count": null,
      "_view_module": "@jupyter-widgets/base",
      "_view_module_version": "1.2.0",
      "_view_name": "StyleView",
      "bar_color": null,
      "description_width": ""
     }
    },
    "2bb91dbf551f4fda80bd0c58df06ae14": {
     "model_module": "@jupyter-widgets/controls",
     "model_module_version": "1.5.0",
     "model_name": "DescriptionStyleModel",
     "state": {
      "_model_module": "@jupyter-widgets/controls",
      "_model_module_version": "1.5.0",
      "_model_name": "DescriptionStyleModel",
      "_view_count": null,
      "_view_module": "@jupyter-widgets/base",
      "_view_module_version": "1.2.0",
      "_view_name": "StyleView",
      "description_width": ""
     }
    },
    "32d5d0c113b64b648fe736665d85fa27": {
     "model_module": "@jupyter-widgets/base",
     "model_module_version": "1.2.0",
     "model_name": "LayoutModel",
     "state": {
      "_model_module": "@jupyter-widgets/base",
      "_model_module_version": "1.2.0",
      "_model_name": "LayoutModel",
      "_view_count": null,
      "_view_module": "@jupyter-widgets/base",
      "_view_module_version": "1.2.0",
      "_view_name": "LayoutView",
      "align_content": null,
      "align_items": null,
      "align_self": null,
      "border": null,
      "bottom": null,
      "display": null,
      "flex": null,
      "flex_flow": null,
      "grid_area": null,
      "grid_auto_columns": null,
      "grid_auto_flow": null,
      "grid_auto_rows": null,
      "grid_column": null,
      "grid_gap": null,
      "grid_row": null,
      "grid_template_areas": null,
      "grid_template_columns": null,
      "grid_template_rows": null,
      "height": null,
      "justify_content": null,
      "justify_items": null,
      "left": null,
      "margin": null,
      "max_height": null,
      "max_width": null,
      "min_height": null,
      "min_width": null,
      "object_fit": null,
      "object_position": null,
      "order": null,
      "overflow": null,
      "overflow_x": null,
      "overflow_y": null,
      "padding": null,
      "right": null,
      "top": null,
      "visibility": null,
      "width": null
     }
    },
    "45a6880274a441549307bb640ac3471b": {
     "model_module": "@jupyter-widgets/controls",
     "model_module_version": "1.5.0",
     "model_name": "HTMLModel",
     "state": {
      "_dom_classes": [],
      "_model_module": "@jupyter-widgets/controls",
      "_model_module_version": "1.5.0",
      "_model_name": "HTMLModel",
      "_view_count": null,
      "_view_module": "@jupyter-widgets/controls",
      "_view_module_version": "1.5.0",
      "_view_name": "HTMLView",
      "description": "",
      "description_tooltip": null,
      "layout": "IPY_MODEL_32d5d0c113b64b648fe736665d85fa27",
      "placeholder": "​",
      "style": "IPY_MODEL_2bb91dbf551f4fda80bd0c58df06ae14",
      "value": "Training (method=importance-sampling): 100%"
     }
    },
    "95d6ec38cbf94f9793011e180f1efa7f": {
     "model_module": "@jupyter-widgets/controls",
     "model_module_version": "1.5.0",
     "model_name": "HTMLModel",
     "state": {
      "_dom_classes": [],
      "_model_module": "@jupyter-widgets/controls",
      "_model_module_version": "1.5.0",
      "_model_name": "HTMLModel",
      "_view_count": null,
      "_view_module": "@jupyter-widgets/controls",
      "_view_module_version": "1.5.0",
      "_view_name": "HTMLView",
      "description": "",
      "description_tooltip": null,
      "layout": "IPY_MODEL_ce69bade81de4d298cf2222d4b089898",
      "placeholder": "​",
      "style": "IPY_MODEL_b8ff165799974fedb249846d0b56a5a8",
      "value": " 100/100 [34:04&lt;00:00, 20.37s/epoch]"
     }
    },
    "9c6e695c231445f79a9ca6a2e947077c": {
     "model_module": "@jupyter-widgets/controls",
     "model_module_version": "1.5.0",
     "model_name": "HBoxModel",
     "state": {
      "_dom_classes": [],
      "_model_module": "@jupyter-widgets/controls",
      "_model_module_version": "1.5.0",
      "_model_name": "HBoxModel",
      "_view_count": null,
      "_view_module": "@jupyter-widgets/controls",
      "_view_module_version": "1.5.0",
      "_view_name": "HBoxView",
      "box_style": "",
      "children": [
       "IPY_MODEL_45a6880274a441549307bb640ac3471b",
       "IPY_MODEL_fd36141ee1674ef49ad1cd0f5c3700ad",
       "IPY_MODEL_95d6ec38cbf94f9793011e180f1efa7f"
      ],
      "layout": "IPY_MODEL_eb2982342ec44ccfbc49b836218f2cf2"
     }
    },
    "b8ff165799974fedb249846d0b56a5a8": {
     "model_module": "@jupyter-widgets/controls",
     "model_module_version": "1.5.0",
     "model_name": "DescriptionStyleModel",
     "state": {
      "_model_module": "@jupyter-widgets/controls",
      "_model_module_version": "1.5.0",
      "_model_name": "DescriptionStyleModel",
      "_view_count": null,
      "_view_module": "@jupyter-widgets/base",
      "_view_module_version": "1.2.0",
      "_view_name": "StyleView",
      "description_width": ""
     }
    },
    "ce69bade81de4d298cf2222d4b089898": {
     "model_module": "@jupyter-widgets/base",
     "model_module_version": "1.2.0",
     "model_name": "LayoutModel",
     "state": {
      "_model_module": "@jupyter-widgets/base",
      "_model_module_version": "1.2.0",
      "_model_name": "LayoutModel",
      "_view_count": null,
      "_view_module": "@jupyter-widgets/base",
      "_view_module_version": "1.2.0",
      "_view_name": "LayoutView",
      "align_content": null,
      "align_items": null,
      "align_self": null,
      "border": null,
      "bottom": null,
      "display": null,
      "flex": null,
      "flex_flow": null,
      "grid_area": null,
      "grid_auto_columns": null,
      "grid_auto_flow": null,
      "grid_auto_rows": null,
      "grid_column": null,
      "grid_gap": null,
      "grid_row": null,
      "grid_template_areas": null,
      "grid_template_columns": null,
      "grid_template_rows": null,
      "height": null,
      "justify_content": null,
      "justify_items": null,
      "left": null,
      "margin": null,
      "max_height": null,
      "max_width": null,
      "min_height": null,
      "min_width": null,
      "object_fit": null,
      "object_position": null,
      "order": null,
      "overflow": null,
      "overflow_x": null,
      "overflow_y": null,
      "padding": null,
      "right": null,
      "top": null,
      "visibility": null,
      "width": null
     }
    },
    "eb2982342ec44ccfbc49b836218f2cf2": {
     "model_module": "@jupyter-widgets/base",
     "model_module_version": "1.2.0",
     "model_name": "LayoutModel",
     "state": {
      "_model_module": "@jupyter-widgets/base",
      "_model_module_version": "1.2.0",
      "_model_name": "LayoutModel",
      "_view_count": null,
      "_view_module": "@jupyter-widgets/base",
      "_view_module_version": "1.2.0",
      "_view_name": "LayoutView",
      "align_content": null,
      "align_items": null,
      "align_self": null,
      "border": null,
      "bottom": null,
      "display": null,
      "flex": null,
      "flex_flow": null,
      "grid_area": null,
      "grid_auto_columns": null,
      "grid_auto_flow": null,
      "grid_auto_rows": null,
      "grid_column": null,
      "grid_gap": null,
      "grid_row": null,
      "grid_template_areas": null,
      "grid_template_columns": null,
      "grid_template_rows": null,
      "height": null,
      "justify_content": null,
      "justify_items": null,
      "left": null,
      "margin": null,
      "max_height": null,
      "max_width": null,
      "min_height": null,
      "min_width": null,
      "object_fit": null,
      "object_position": null,
      "order": null,
      "overflow": null,
      "overflow_x": null,
      "overflow_y": null,
      "padding": null,
      "right": null,
      "top": null,
      "visibility": null,
      "width": null
     }
    },
    "f9fee4f7e0b543d38820385315415c09": {
     "model_module": "@jupyter-widgets/base",
     "model_module_version": "1.2.0",
     "model_name": "LayoutModel",
     "state": {
      "_model_module": "@jupyter-widgets/base",
      "_model_module_version": "1.2.0",
      "_model_name": "LayoutModel",
      "_view_count": null,
      "_view_module": "@jupyter-widgets/base",
      "_view_module_version": "1.2.0",
      "_view_name": "LayoutView",
      "align_content": null,
      "align_items": null,
      "align_self": null,
      "border": null,
      "bottom": null,
      "display": null,
      "flex": null,
      "flex_flow": null,
      "grid_area": null,
      "grid_auto_columns": null,
      "grid_auto_flow": null,
      "grid_auto_rows": null,
      "grid_column": null,
      "grid_gap": null,
      "grid_row": null,
      "grid_template_areas": null,
      "grid_template_columns": null,
      "grid_template_rows": null,
      "height": null,
      "justify_content": null,
      "justify_items": null,
      "left": null,
      "margin": null,
      "max_height": null,
      "max_width": null,
      "min_height": null,
      "min_width": null,
      "object_fit": null,
      "object_position": null,
      "order": null,
      "overflow": null,
      "overflow_x": null,
      "overflow_y": null,
      "padding": null,
      "right": null,
      "top": null,
      "visibility": null,
      "width": null
     }
    },
    "fd36141ee1674ef49ad1cd0f5c3700ad": {
     "model_module": "@jupyter-widgets/controls",
     "model_module_version": "1.5.0",
     "model_name": "FloatProgressModel",
     "state": {
      "_dom_classes": [],
      "_model_module": "@jupyter-widgets/controls",
      "_model_module_version": "1.5.0",
      "_model_name": "FloatProgressModel",
      "_view_count": null,
      "_view_module": "@jupyter-widgets/controls",
      "_view_module_version": "1.5.0",
      "_view_name": "ProgressView",
      "bar_style": "success",
      "description": "",
      "description_tooltip": null,
      "layout": "IPY_MODEL_f9fee4f7e0b543d38820385315415c09",
      "max": 100,
      "min": 0,
      "orientation": "horizontal",
      "style": "IPY_MODEL_125e1ddec1fa49a18bd11bd9edc05f57",
      "value": 100
     }
    }
   }
  }
 },
 "nbformat": 4,
 "nbformat_minor": 0
}
